{
 "cells": [
  {
   "cell_type": "code",
   "execution_count": null,
   "id": "fe909e14",
   "metadata": {},
   "outputs": [],
   "source": [
    "MAX_LEN = 70 # Maximum_length of words are 66\n",
    "import re\n",
    "class WordTokenizer:\n",
    "    def __init__(self, corpora):\n",
    "        self.punctuation_set = set(\"!?.:,;…()[]{}\\\"'`~@#$%^&*-+=/\\\\|<>\")\n",
    "\n",
    "        self.corpora_tokens = self.tokenize_corpora(corpora)\n",
    "\n",
    "        \n",
    "        self.word2idx = {ch:id for id, ch in enumerate(sorted(set(self.corpora_tokens)))}\n",
    "        self.idx2word = {id:ch for id, ch in enumerate(sorted(set(self.corpora_tokens)))}\n",
    "\n",
    "        print(f\"Corpora Set :{self.corpora_tokens}\")\n",
    "    \n",
    "    def tokenize_corpora(self, input):\n",
    "        tokens = re.findall(r'\\w+(?:-\\w+)*|[^\\w\\s]+', input)\n",
    "        spaced_tokens = []\n",
    "        for i, token in enumerate(tokens):\n",
    "            if all(char in self.punctuation_set for char in token):\n",
    "                # Punctuation: no space before\n",
    "                spaced_tokens.append(token)\n",
    "            \n",
    "            elif token == \"UNK\":\n",
    "                spaced_tokens.append(token)\n",
    "\n",
    "            else:\n",
    "                # Word/hyphenated word: add space before\n",
    "                spaced_tokens.append(' ' + token)\n",
    "        \n",
    "        return spaced_tokens\n",
    "    \n",
    "    def tokenize_text(self, input):\n",
    "        tokens = re.findall(r'\\w+(?:-\\w+)*|[^\\w\\s]+', input)\n",
    "        spaced_tokens = []\n",
    "        for i, token in enumerate(tokens):\n",
    "            if all(char in self.punctuation_set for char in token):\n",
    "                # Punctuation: no space before\n",
    "                spaced_tokens.append(token)\n",
    "            \n",
    "            elif token not in self.corpora_tokens:\n",
    "                spaced_tokens.append(\"UNK\")\n",
    "\n",
    "            else:\n",
    "                # Word/hyphenated word: add space before\n",
    "                spaced_tokens.append(' ' + token)\n",
    "        \n",
    "        return spaced_tokens\n",
    "    \n",
    "    def get_input_ids(self, text):\n",
    "        tokens = self.tokenize_text(text)\n",
    "        return [self.word2idx[word] for word in tokens]\n",
    "    \n",
    "    def get_characters(self, ids):\n",
    "        return ''.join([self.idx2word[id] for id in ids])\n",
    "\n",
    "    def pad_and_create_mask(self, ids, max_length, pad_id=0):\n",
    "        padded = ids[:max_length] + [pad_id] * max(0, max_length - len(ids))\n",
    "        mask = [1 if i < len(ids) else 0 for i in range(max_length)]\n",
    "        return padded, mask\n",
    "    \n",
    "    def get_masked_token(self, text, max_length = 128):\n",
    "        input_ids = self.get_input_ids(text)\n",
    "        input_ids, masks =  self.pad_and_create_mask(input_ids, max_length)\n",
    "        return {\"input_ids\":input_ids,\"mask\": masks}"
   ]
  },
  {
   "cell_type": "code",
   "execution_count": 73,
   "id": "9091db0d",
   "metadata": {},
   "outputs": [],
   "source": [
    "import re\n",
    "\n",
    "class WordTokenizer:\n",
    "    def __init__(self, corpora, max_len=70):\n",
    "        self.MAX_LEN = max_len\n",
    "        self.punctuation_set = set(\"!?.:,;…()[]{}\\\"'`~@#$%^&*-+=/\\\\|<>\")\n",
    "\n",
    "        # Build Vocabulary consisting of special tokens and tokens from corpora\n",
    "        self.special_tokens = [\" UNK\", \"PAD\"]\n",
    "        self.corpora_tokens = self.tokenize(corpora, for_corpus=True)\n",
    "        unique_tokens = sorted(set(self.corpora_tokens).union(self.special_tokens).union(self.punctuation_set))\n",
    "\n",
    "        self.word2idx = {token: idx for idx, token in enumerate(unique_tokens)}\n",
    "        self.idx2word = {idx: token for token, idx in self.word2idx.items()}\n",
    "\n",
    "        print(f\"Corpora Tokens: {self.corpora_tokens}\")\n",
    "        print(f\"Vocabulary Size: {len(self.word2idx)}\")\n",
    "\n",
    "    def tokenize(self, text, for_corpus=False):\n",
    "        tokens = re.findall(r'\\w+(?:-\\w+)*|[^\\w\\s]+', text)\n",
    "        spaced_tokens = []\n",
    "\n",
    "        for token in tokens:\n",
    "            if all(char in self.punctuation_set for char in token):\n",
    "                # Punctuation: no preceding space\n",
    "                spaced_tokens.append(token)\n",
    "            \n",
    "            else:\n",
    "                spaced_tokens.append(' ' + token)\n",
    "\n",
    "        return spaced_tokens\n",
    "\n",
    "    def get_input_ids(self, text):\n",
    "        tokens = self.tokenize(text)\n",
    "        return [self.word2idx.get(token, self.word2idx[\" UNK\"]) for token in tokens]\n",
    "\n",
    "    def get_characters(self, ids):\n",
    "        return ''.join([self.idx2word.get(idx, \" UNK\") for idx in ids])\n",
    "\n",
    "    def pad_and_create_mask(self, ids, max_length=None):\n",
    "        if max_length is None:\n",
    "            max_length = self.MAX_LEN\n",
    "\n",
    "        pad_id = self.word2idx[\"PAD\"]\n",
    "        padded = ids[:max_length] + [pad_id] * max(0, max_length - len(ids))\n",
    "        mask = [1 if i < len(ids) else 0 for i in range(max_length)]\n",
    "        return padded, mask\n",
    "\n",
    "    def get_masked_token(self, text, max_length=None):\n",
    "        input_ids = self.get_input_ids(text)\n",
    "        padded_ids, masks = self.pad_and_create_mask(input_ids, max_length)\n",
    "        return {\"input_ids\": padded_ids, \"mask\": masks}"
   ]
  },
  {
   "cell_type": "code",
   "execution_count": 77,
   "id": "f5586269",
   "metadata": {},
   "outputs": [
    {
     "name": "stdout",
     "output_type": "stream",
     "text": [
      "Corpora Tokens: [' this', ' is', ' the', ' very', ' large', ' corpora']\n",
      "Vocabulary Size: 40\n",
      "Tokens: [' the', ' sun', ' is', ' hot']\n",
      "Input IDs: [4, 0, 2, 0]\n",
      "Decoded:  the UNK is UNK\n",
      "Masked: {'input_ids': [4, 0, 2, 0, 29, 29, 29, 29, 29, 29], 'mask': [1, 1, 1, 1, 0, 0, 0, 0, 0, 0]}\n"
     ]
    }
   ],
   "source": [
    "corpus = \"this is the very large corpora\"\n",
    "tokenizer = WordTokenizer(corpus)\n",
    "\n",
    "text = \"The sun is hot\".lower()\n",
    "tokens = tokenizer.tokenize(text)\n",
    "ids = tokenizer.get_input_ids(text)\n",
    "chars = tokenizer.get_characters(ids)\n",
    "masked = tokenizer.get_masked_token(text, max_length=10)\n",
    "\n",
    "print(\"Tokens:\", tokens)\n",
    "print(\"Input IDs:\", ids)\n",
    "print(\"Decoded:\", chars)\n",
    "print(\"Masked:\", masked)"
   ]
  },
  {
   "cell_type": "code",
   "execution_count": 48,
   "id": "3b004add",
   "metadata": {},
   "outputs": [
    {
     "name": "stdout",
     "output_type": "stream",
     "text": [
      "Punchuation Set :['UNK', ' In', ' the', ' very', ' beginging', ' of', ' the', ' world', ',', ' we', ' were', ' humans']\n",
      "[10, 10, 10, 10] UNKUNKUNKUNK\n"
     ]
    }
   ],
   "source": [
    "corpora = \"UNK In the very beginging of the world, we were humans\"\n",
    "text = \"In the very nnc\"\n",
    "t = WordTokenizer(corpora)\n",
    "ids = t.get_input_ids(text)\n",
    "tokens = t.get_characters(ids)\n",
    "print(ids, tokens)"
   ]
  },
  {
   "cell_type": "code",
   "execution_count": null,
   "id": "c2706c38",
   "metadata": {},
   "outputs": [
    {
     "data": {
      "text/plain": [
       "[' Wait', ' what', ' GPT-4', ' is', ' amazing']"
      ]
     },
     "execution_count": 26,
     "metadata": {},
     "output_type": "execute_result"
    }
   ],
   "source": [
    "corpora = \"<unk> In the very beginging of the world, we were humans\"\n",
    "text = \"In the very nnc\"\n",
    "punctuation_set = set(\"!?.:,;…()[]{}\\\"'`~@#$%^&*-+=/\\\\|<>\")\n",
    "text = \"Wait... what?! GPT-4 is amazing!!!\"\n",
    "tokens = re.findall(r'\\w+(?:-\\w+)*|[^\\w\\s]+', text)\n",
    "spaced_tokens = [' ' + token for token in tokens if not all(char in punctuation_set for char in token)]\n",
    "spaced_tokens"
   ]
  },
  {
   "cell_type": "code",
   "execution_count": 28,
   "id": "241dfc39",
   "metadata": {},
   "outputs": [
    {
     "name": "stdout",
     "output_type": "stream",
     "text": [
      "Result: [' Wait', '...', ' what', '?!', ' GPT-4', ' is', ' amazing', '!!!']\n"
     ]
    }
   ],
   "source": [
    "\n",
    "text = \"Wait... what?! GPT-4 is amazing!!!\"\n",
    "\n",
    "# Define punctuation set\n",
    "punctuation_set = set(\"!?.:,;…()[]{}\\\"'`~@#$%^&*-+=/\\\\|<>\")\n",
    "\n",
    "# Tokenize into words (with hyphens) and grouped punctuation\n",
    "tokens = re.findall(r'\\w+(?:-\\w+)*|[^\\w\\s]+', text)\n",
    "\n",
    "# Add space before tokens, unless it's punctuation\n",
    "spaced_tokens = []\n",
    "for i, token in enumerate(tokens):\n",
    "    if all(char in punctuation_set for char in token):\n",
    "        # Punctuation: no space before\n",
    "        spaced_tokens.append(token)\n",
    "    else:\n",
    "        # Word/hyphenated word: add space before\n",
    "        spaced_tokens.append(' ' + token)\n",
    "\n",
    "# Join into final result\n",
    "result = ''.join(spaced_tokens)\n",
    "\n",
    "print(\"Result:\", spaced_tokens)"
   ]
  },
  {
   "cell_type": "code",
   "execution_count": 7,
   "id": "ac3273d0",
   "metadata": {},
   "outputs": [],
   "source": [
    "Wt = WordTokenizer(corpora)"
   ]
  },
  {
   "cell_type": "code",
   "execution_count": 10,
   "id": "6e854913",
   "metadata": {},
   "outputs": [
    {
     "data": {
      "text/plain": [
       "'In the very beginging'"
      ]
     },
     "execution_count": 10,
     "metadata": {},
     "output_type": "execute_result"
    }
   ],
   "source": [
    "ids = Wt.get_input_ids(text)\n",
    "Wt.get_characters(ids)"
   ]
  },
  {
   "cell_type": "code",
   "execution_count": 11,
   "id": "46288442",
   "metadata": {},
   "outputs": [],
   "source": [
    "token = Wt.token(text)"
   ]
  },
  {
   "cell_type": "code",
   "execution_count": 13,
   "id": "7d590021",
   "metadata": {},
   "outputs": [
    {
     "name": "stdout",
     "output_type": "stream",
     "text": [
      "{'input_ids': [2, 0, 6, 0, 7, 0, 3, 0, 0, 0, 0, 0, 0, 0, 0, 0, 0, 0, 0, 0, 0, 0, 0, 0, 0, 0, 0, 0, 0, 0, 0, 0, 0, 0, 0, 0, 0, 0, 0, 0, 0, 0, 0, 0, 0, 0, 0, 0, 0, 0, 0, 0, 0, 0, 0, 0, 0, 0, 0, 0, 0, 0, 0, 0, 0, 0, 0, 0, 0, 0, 0, 0, 0, 0, 0, 0, 0, 0, 0, 0, 0, 0, 0, 0, 0, 0, 0, 0, 0, 0, 0, 0, 0, 0, 0, 0, 0, 0, 0, 0, 0, 0, 0, 0, 0, 0, 0, 0, 0, 0, 0, 0, 0, 0, 0, 0, 0, 0, 0, 0, 0, 0, 0, 0, 0, 0, 0, 0], 'mask': [1, 1, 1, 1, 1, 1, 1, 0, 0, 0, 0, 0, 0, 0, 0, 0, 0, 0, 0, 0, 0, 0, 0, 0, 0, 0, 0, 0, 0, 0, 0, 0, 0, 0, 0, 0, 0, 0, 0, 0, 0, 0, 0, 0, 0, 0, 0, 0, 0, 0, 0, 0, 0, 0, 0, 0, 0, 0, 0, 0, 0, 0, 0, 0, 0, 0, 0, 0, 0, 0, 0, 0, 0, 0, 0, 0, 0, 0, 0, 0, 0, 0, 0, 0, 0, 0, 0, 0, 0, 0, 0, 0, 0, 0, 0, 0, 0, 0, 0, 0, 0, 0, 0, 0, 0, 0, 0, 0, 0, 0, 0, 0, 0, 0, 0, 0, 0, 0, 0, 0, 0, 0, 0, 0, 0, 0, 0, 0]}\n"
     ]
    }
   ],
   "source": [
    "print(token)"
   ]
  }
 ],
 "metadata": {
  "kernelspec": {
   "display_name": "base",
   "language": "python",
   "name": "python3"
  },
  "language_info": {
   "codemirror_mode": {
    "name": "ipython",
    "version": 3
   },
   "file_extension": ".py",
   "mimetype": "text/x-python",
   "name": "python",
   "nbconvert_exporter": "python",
   "pygments_lexer": "ipython3",
   "version": "3.12.7"
  }
 },
 "nbformat": 4,
 "nbformat_minor": 5
}
