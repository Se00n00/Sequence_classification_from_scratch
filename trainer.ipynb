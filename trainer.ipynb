{
 "cells": [
  {
   "cell_type": "code",
   "execution_count": 1,
   "id": "1971e7af",
   "metadata": {},
   "outputs": [],
   "source": [
    "import torch\n",
    "import torch.nn as nn\n",
    "import torch.optim as optim\n",
    "from torch.utils.data import DataLoader, TensorDataset, Dataset\n",
    "\n",
    "from Architectures.Basic_Sequence_classification import Sequence_Classification"
   ]
  },
  {
   "cell_type": "code",
   "execution_count": 2,
   "id": "9427fc27",
   "metadata": {},
   "outputs": [],
   "source": [
    "from transformers import AutoTokenizer\n",
    "# summary\n",
    "from datasets import load_dataset\n",
    "from sklearn.metrics import accuracy_score, f1_score"
   ]
  },
  {
   "cell_type": "markdown",
   "id": "3ca9a62c",
   "metadata": {},
   "source": [
    "## Loading Tweet Dataset"
   ]
  },
  {
   "cell_type": "code",
   "execution_count": null,
   "id": "68ee0b81",
   "metadata": {},
   "outputs": [],
   "source": [
    "dataset = load_dataset(\"tweet_eval\", \"emotion\", token=\"\")\n",
    "tokenizer = AutoTokenizer.from_pretrained(\"bert-base-uncased\", token=\"\")\n",
    "\n",
    "NUM_LABELS = 6  # anger, joy, optimism, sadness, fear, love\n",
    "MAX_LEN = 128"
   ]
  },
  {
   "cell_type": "code",
   "execution_count": 4,
   "id": "b74cbacc",
   "metadata": {},
   "outputs": [
    {
     "data": {
      "text/plain": [
       "{'text': '@user @user USA was embarrassing to watch. When was the last time you guys won a game..? #horrible #joke',\n",
       " 'label': 0}"
      ]
     },
     "execution_count": 4,
     "metadata": {},
     "output_type": "execute_result"
    }
   ],
   "source": [
    "dataset['train'][10]"
   ]
  },
  {
   "cell_type": "markdown",
   "id": "d8eb7244",
   "metadata": {},
   "source": [
    "## Preprocess"
   ]
  },
  {
   "cell_type": "code",
   "execution_count": 5,
   "id": "78890754",
   "metadata": {},
   "outputs": [
    {
     "data": {
      "application/vnd.jupyter.widget-view+json": {
       "model_id": "7952426c0bc34a0c80195ecebf1696dc",
       "version_major": 2,
       "version_minor": 0
      },
      "text/plain": [
       "Map:   0%|          | 0/1421 [00:00<?, ? examples/s]"
      ]
     },
     "metadata": {},
     "output_type": "display_data"
    }
   ],
   "source": [
    "def encode(examples):\n",
    "    return tokenizer(examples['text'], truncation=True, padding='max_length', max_length=MAX_LEN)\n",
    "\n",
    "encoded_dataset = dataset.map(encode)"
   ]
  },
  {
   "cell_type": "code",
   "execution_count": 6,
   "id": "b913e857",
   "metadata": {},
   "outputs": [],
   "source": [
    "def encode_message(string):\n",
    "    return tokenizer(string, truncation=True, padding='max_length', max_length=MAX_LEN)"
   ]
  },
  {
   "cell_type": "code",
   "execution_count": 7,
   "id": "bc1e09b6",
   "metadata": {},
   "outputs": [
    {
     "data": {
      "text/plain": [
       "dict_keys(['input_ids', 'token_type_ids', 'attention_mask'])"
      ]
     },
     "execution_count": 7,
     "metadata": {},
     "output_type": "execute_result"
    }
   ],
   "source": [
    "encode_message(\"Hello world\").keys()"
   ]
  },
  {
   "cell_type": "code",
   "execution_count": 8,
   "id": "a84e06dc",
   "metadata": {},
   "outputs": [],
   "source": [
    "class TweetDataset(Dataset):\n",
    "    def __init__(self, dataset):\n",
    "        self.dataset = dataset\n",
    "    \n",
    "    def __len__(self):\n",
    "        return len(self.dataset)\n",
    "    \n",
    "    def __getitem__(self, idx):\n",
    "        item = {\n",
    "            'input_ids': torch.tensor(self.dataset[idx]['input_ids']),\n",
    "            'attention_mask': torch.tensor(self.dataset[idx]['attention_mask']),\n",
    "        }\n",
    "        item['labels'] = torch.tensor(self.dataset[idx]['label'])\n",
    "        return item\n",
    "\n",
    "train_dataset = TweetDataset(encoded_dataset['train'])\n",
    "val_dataset = TweetDataset(encoded_dataset['validation'])\n",
    "train_loader = DataLoader(train_dataset, batch_size=32, shuffle=True)\n",
    "val_loader = DataLoader(val_dataset, batch_size=32)"
   ]
  },
  {
   "cell_type": "markdown",
   "id": "6fd2e608",
   "metadata": {},
   "source": [
    "## Model Definition and Training"
   ]
  },
  {
   "cell_type": "code",
   "execution_count": 22,
   "id": "6d00e90e",
   "metadata": {},
   "outputs": [],
   "source": [
    "from transformers import PretrainedConfig\n",
    "class Config(PretrainedConfig):\n",
    "    model_type = \"transformer\"\n",
    "    def __init__(self,\n",
    "                vocab_size = 30522,\n",
    "                embed_dim=128,\n",
    "                num_layers=10,\n",
    "                num_heads=8,\n",
    "                ff_dim=512,\n",
    "                pre_normalization=True,\n",
    "                max_position_embeddings=128,\n",
    "                dropout_prob=0.1,\n",
    "                num_labels=6,\n",
    "                device = \"cuda\"):\n",
    "        self.device = device\n",
    "        self.vocab_size = vocab_size  # Tokenizer vocab size\n",
    "        self.embed_dim = embed_dim  # Embedding & input to attention\n",
    "        self.num_layers = num_layers  # Number of encoder layers\n",
    "        self.num_heads = num_heads  # Number of heads in Multi-Head Attention\n",
    "        self.ff_dim = ff_dim  # Feed Forward hidden dimension\n",
    "        self.pre_normalization = pre_normalization  # LayerNorm before or after attention/FFN\n",
    "        self.max_length = max_position_embeddings  # Max sequence length\n",
    "        self.dropout_prob = dropout_prob  # Dropout probability\n",
    "        self.num_classess = num_labels  # Output classes (for classification)"
   ]
  },
  {
   "cell_type": "code",
   "execution_count": 10,
   "id": "66c4b8b1",
   "metadata": {},
   "outputs": [],
   "source": [
    "device = torch.device(\"cuda\" if torch.cuda.is_available() else \"cpu\")"
   ]
  },
  {
   "cell_type": "code",
   "execution_count": 12,
   "id": "566807e8",
   "metadata": {},
   "outputs": [],
   "source": [
    "class Config:\n",
    "    num_layers = 10\n",
    "    embed_dim = 128\n",
    "    vocab_size = tokenizer.vocab_size\n",
    "    max_length = 128\n",
    "    device = device # cuda or cpu\n",
    "    n_heads = 8\n",
    "    ff_dim = 512\n",
    "    dropout = 0.1\n",
    "    num_classess = 6"
   ]
  },
  {
   "cell_type": "code",
   "execution_count": 23,
   "id": "0d18d7b0",
   "metadata": {},
   "outputs": [],
   "source": [
    "from transformers import PreTrainedModel\n",
    "class Classification_model(PreTrainedModel):\n",
    "    config_class = Config\n",
    "\n",
    "    def __init__(self, config):\n",
    "        super(Classification_model, self).__init__(config)\n",
    "        self.model = Sequence_Classification(config)\n",
    "    \n",
    "    def forward(self, input_ids, attention_mask=None):\n",
    "        return self.model(input_ids, attention_mask=attention_mask)"
   ]
  },
  {
   "cell_type": "code",
   "execution_count": 21,
   "id": "29ff3ca2",
   "metadata": {},
   "outputs": [
    {
     "data": {
      "text/plain": [
       "30522"
      ]
     },
     "execution_count": 21,
     "metadata": {},
     "output_type": "execute_result"
    }
   ],
   "source": [
    "tokenizer.vocab_size"
   ]
  },
  {
   "cell_type": "code",
   "execution_count": 24,
   "id": "3688ca83",
   "metadata": {},
   "outputs": [],
   "source": [
    "model = Classification_model(config=Config(vocab_size=tokenizer.vocab_size)).to(device)\n",
    "optimizer = torch.optim.AdamW(model.parameters(), lr=2e-4)\n",
    "loss_fn = nn.CrossEntropyLoss()"
   ]
  },
  {
   "cell_type": "code",
   "execution_count": 18,
   "id": "2d948d4c",
   "metadata": {},
   "outputs": [
    {
     "name": "stdout",
     "output_type": "stream",
     "text": [
      "Classification_model(\n",
      "  (model): Sequence_Classification(\n",
      "    (position_embedding): SinusoidalEmbeddingLayer(\n",
      "      (embedding): Embedding(30522, 128)\n",
      "      (layer_norm): LayerNorm((128,), eps=1e-12, elementwise_affine=True)\n",
      "    )\n",
      "    (encoder): TransformerEncoder(\n",
      "      (layers): ModuleList(\n",
      "        (0-9): 10 x TransformerEncoderLayer(\n",
      "          (attn): MultiHeadAttention(\n",
      "            (query): Linear(in_features=128, out_features=128, bias=True)\n",
      "            (key): Linear(in_features=128, out_features=128, bias=True)\n",
      "            (value): Linear(in_features=128, out_features=128, bias=True)\n",
      "            (output): Linear(in_features=128, out_features=128, bias=True)\n",
      "            (dropout): Dropout(p=0.1, inplace=False)\n",
      "          )\n",
      "          (ff): FeedForward2(\n",
      "            (fc1): Linear(in_features=128, out_features=512, bias=True)\n",
      "            (fc2): Linear(in_features=512, out_features=128, bias=True)\n",
      "            (dropout): Dropout(p=0.1, inplace=False)\n",
      "            (gelu): GELU(approximate='none')\n",
      "          )\n",
      "          (norm1): LayerNorm((128,), eps=1e-05, elementwise_affine=True)\n",
      "          (norm2): LayerNorm((128,), eps=1e-05, elementwise_affine=True)\n",
      "          (dropout): Dropout(p=0.1, inplace=False)\n",
      "        )\n",
      "      )\n",
      "    )\n",
      "    (dropout): Dropout(p=0.1, inplace=False)\n",
      "    (final): Linear(in_features=128, out_features=128, bias=True)\n",
      "    (classification_head): Sequential(\n",
      "      (0): Linear(in_features=128, out_features=128, bias=True)\n",
      "      (1): ReLU()\n",
      "      (2): Dropout(p=0.1, inplace=False)\n",
      "      (3): Linear(in_features=128, out_features=6, bias=True)\n",
      "    )\n",
      "  )\n",
      ")\n"
     ]
    }
   ],
   "source": [
    "print(model)"
   ]
  },
  {
   "cell_type": "code",
   "execution_count": 25,
   "id": "eb44e0e9",
   "metadata": {},
   "outputs": [
    {
     "name": "stdout",
     "output_type": "stream",
     "text": [
      "Epoch 1, Loss: 1.3207\n",
      "Validation Accuracy: 0.4385, F1 Score: 0.2120\n",
      "Epoch 2, Loss: 1.2289\n",
      "Validation Accuracy: 0.4813, F1 Score: 0.3544\n",
      "Epoch 3, Loss: 1.0924\n",
      "Validation Accuracy: 0.5428, F1 Score: 0.3800\n",
      "Epoch 4, Loss: 0.9219\n",
      "Validation Accuracy: 0.5802, F1 Score: 0.5239\n",
      "Epoch 5, Loss: 0.7787\n",
      "Validation Accuracy: 0.5668, F1 Score: 0.4953\n",
      "Epoch 6, Loss: 0.6604\n",
      "Validation Accuracy: 0.5829, F1 Score: 0.5297\n",
      "Epoch 7, Loss: 0.5271\n",
      "Validation Accuracy: 0.6176, F1 Score: 0.5561\n",
      "Epoch 8, Loss: 0.4027\n",
      "Validation Accuracy: 0.6070, F1 Score: 0.5296\n",
      "Epoch 9, Loss: 0.3157\n",
      "Validation Accuracy: 0.5401, F1 Score: 0.4864\n",
      "Epoch 10, Loss: 0.2627\n",
      "Validation Accuracy: 0.6283, F1 Score: 0.5453\n"
     ]
    }
   ],
   "source": [
    "num_epochs = 10\n",
    "\n",
    "for epoch in range(num_epochs):\n",
    "    model.train()\n",
    "    total_loss = 0\n",
    "    for batch in train_loader:\n",
    "        # Get batch data\n",
    "        input_ids = batch['input_ids'].to(device)\n",
    "        attention_mask = batch['attention_mask'].to(device)\n",
    "        labels = batch['labels'].to(device)\n",
    "        \n",
    "        # Forward pass\n",
    "        optimizer.zero_grad()\n",
    "        logits = model(input_ids, attention_mask)\n",
    "        \n",
    "        # Calculate loss, backward pass, and update weights\n",
    "        loss = loss_fn(logits, labels)\n",
    "        loss.backward()\n",
    "        optimizer.step()\n",
    "        \n",
    "        total_loss += loss.item()\n",
    "    \n",
    "    print(f\"Epoch {epoch + 1}, Loss: {total_loss / len(train_loader):.4f}\")\n",
    "    \n",
    "    # Validation\n",
    "    model.eval()\n",
    "    preds, targets = [], []\n",
    "    with torch.no_grad():\n",
    "        for batch in val_loader:\n",
    "            input_ids = batch['input_ids'].to(device)\n",
    "            attention_mask = batch['attention_mask'].to(device)\n",
    "            labels = batch['labels'].to(device)\n",
    "            \n",
    "            logits = model(input_ids, attention_mask)\n",
    "            predictions = torch.argmax(logits, dim=1)\n",
    "            \n",
    "            preds.extend(predictions.cpu().numpy())\n",
    "            targets.extend(labels.cpu().numpy())\n",
    "    \n",
    "    acc = accuracy_score(targets, preds)\n",
    "    f1 = f1_score(targets, preds, average='macro')\n",
    "    print(f\"Validation Accuracy: {acc:.4f}, F1 Score: {f1:.4f}\")\n"
   ]
  },
  {
   "cell_type": "code",
   "execution_count": 26,
   "id": "00bb95e8",
   "metadata": {},
   "outputs": [],
   "source": [
    "model.save_pretrained(\"tweet_emotion_model\")"
   ]
  },
  {
   "cell_type": "code",
   "execution_count": 28,
   "id": "30fc0252",
   "metadata": {},
   "outputs": [
    {
     "data": {
      "application/vnd.jupyter.widget-view+json": {
       "model_id": "f47e6668d0b54f5c8d1ec3ac138e0873",
       "version_major": 2,
       "version_minor": 0
      },
      "text/plain": [
       "VBox(children=(HTML(value='<center> <img\\nsrc=https://huggingface.co/front/assets/huggingface_logo-noborder.sv…"
      ]
     },
     "metadata": {},
     "output_type": "display_data"
    }
   ],
   "source": [
    "from huggingface_hub import login\n",
    "login()"
   ]
  },
  {
   "cell_type": "code",
   "execution_count": null,
   "id": "9dcc148a",
   "metadata": {},
   "outputs": [
    {
     "data": {
      "application/vnd.jupyter.widget-view+json": {
       "model_id": "caa1d28429e44c369b6ae99a08ed49c1",
       "version_major": 2,
       "version_minor": 0
      },
      "text/plain": [
       "model.safetensors:   0%|          | 0.00/23.8M [00:00<?, ?B/s]"
      ]
     },
     "metadata": {},
     "output_type": "display_data"
    },
    {
     "data": {
      "text/plain": [
       "CommitInfo(commit_url='https://huggingface.co/Se00n00/Sequence_classifier/commit/7bcc5949e4e13371349598e9939d1b1172f73fbd', commit_message='Upload folder using huggingface_hub', commit_description='', oid='7bcc5949e4e13371349598e9939d1b1172f73fbd', pr_url=None, repo_url=RepoUrl('https://huggingface.co/Se00n00/Sequence_classifier', endpoint='https://huggingface.co', repo_type='model', repo_id='Se00n00/Sequence_classifier'), pr_revision=None, pr_num=None)"
      ]
     },
     "execution_count": 30,
     "metadata": {},
     "output_type": "execute_result"
    }
   ],
   "source": [
    "import os\n",
    "from huggingface_hub import HfApi\n",
    "\n",
    "api = HfApi(token=os.getenv(\"\"))\n",
    "api.upload_folder(\n",
    "    folder_path=\"tweet_emotion_model\",\n",
    "    repo_id=\"Se00n00/Sequence_classifier\",\n",
    "    repo_type=\"model\",\n",
    ")"
   ]
  },
  {
   "cell_type": "code",
   "execution_count": 29,
   "id": "77e1394e",
   "metadata": {},
   "outputs": [
    {
     "ename": "TypeError",
     "evalue": "HfApi.create_repo() got an unexpected keyword argument 'name'",
     "output_type": "error",
     "traceback": [
      "\u001b[0;31m---------------------------------------------------------------------------\u001b[0m",
      "\u001b[0;31mTypeError\u001b[0m                                 Traceback (most recent call last)",
      "Cell \u001b[0;32mIn[29], line 4\u001b[0m\n\u001b[1;32m      1\u001b[0m \u001b[38;5;28;01mfrom\u001b[39;00m \u001b[38;5;21;01mhuggingface_hub\u001b[39;00m \u001b[38;5;28;01mimport\u001b[39;00m HfApi\n\u001b[1;32m      3\u001b[0m api \u001b[38;5;241m=\u001b[39m HfApi()\n\u001b[0;32m----> 4\u001b[0m api\u001b[38;5;241m.\u001b[39mcreate_repo(name\u001b[38;5;241m=\u001b[39m\u001b[38;5;124m\"\u001b[39m\u001b[38;5;124mSequence-classifier\u001b[39m\u001b[38;5;124m\"\u001b[39m, private\u001b[38;5;241m=\u001b[39m\u001b[38;5;28;01mFalse\u001b[39;00m)\n\u001b[1;32m      6\u001b[0m model\u001b[38;5;241m.\u001b[39mpush_to_hub(\u001b[38;5;124m\"\u001b[39m\u001b[38;5;124mSe00n00/Sequence-classifier\u001b[39m\u001b[38;5;124m\"\u001b[39m)\n",
      "File \u001b[0;32m~/anaconda3/lib/python3.12/site-packages/huggingface_hub/utils/_validators.py:114\u001b[0m, in \u001b[0;36mvalidate_hf_hub_args.<locals>._inner_fn\u001b[0;34m(*args, **kwargs)\u001b[0m\n\u001b[1;32m    111\u001b[0m \u001b[38;5;28;01mif\u001b[39;00m check_use_auth_token:\n\u001b[1;32m    112\u001b[0m     kwargs \u001b[38;5;241m=\u001b[39m smoothly_deprecate_use_auth_token(fn_name\u001b[38;5;241m=\u001b[39mfn\u001b[38;5;241m.\u001b[39m\u001b[38;5;18m__name__\u001b[39m, has_token\u001b[38;5;241m=\u001b[39mhas_token, kwargs\u001b[38;5;241m=\u001b[39mkwargs)\n\u001b[0;32m--> 114\u001b[0m \u001b[38;5;28;01mreturn\u001b[39;00m fn(\u001b[38;5;241m*\u001b[39margs, \u001b[38;5;241m*\u001b[39m\u001b[38;5;241m*\u001b[39mkwargs)\n",
      "\u001b[0;31mTypeError\u001b[0m: HfApi.create_repo() got an unexpected keyword argument 'name'"
     ]
    }
   ],
   "source": [
    "from huggingface_hub import HfApi\n",
    "\n",
    "api = HfApi()\n",
    "api.create_repo(name=\"Sequence-classifier\", private=False)\n",
    "\n",
    "model.push_to_hub(\"Se00n00/Sequence-classifier\")"
   ]
  },
  {
   "cell_type": "code",
   "execution_count": 20,
   "id": "53ac1bd1",
   "metadata": {},
   "outputs": [],
   "source": [
    "model.predict = lambda x: torch.argmax(model(x), dim=1)"
   ]
  },
  {
   "cell_type": "code",
   "execution_count": 38,
   "id": "6415ec3c",
   "metadata": {},
   "outputs": [],
   "source": [
    "def predict(string):\n",
    "    encoded_message = encode_message(string)\n",
    "\n",
    "    input_ids = torch.tensor(encoded_message['input_ids'], device=device).unsqueeze(0)\n",
    "    attention_mask = torch.tensor(encoded_message['attention_mask'], device=device).unsqueeze(0)\n",
    "\n",
    "    label = model(input_ids, attention_mask)\n",
    "    \n",
    "    return label"
   ]
  },
  {
   "cell_type": "code",
   "execution_count": 48,
   "id": "c5ab7f23",
   "metadata": {},
   "outputs": [
    {
     "data": {
      "text/plain": [
       "tensor([[-0.4254,  5.8552, -2.4696, -1.3665, -9.9205, -8.3114]],\n",
       "       device='cuda:0', grad_fn=<AddmmBackward0>)"
      ]
     },
     "execution_count": 48,
     "metadata": {},
     "output_type": "execute_result"
    }
   ],
   "source": [
    "predict(\"Everything is falling apart and I can’t stop it.\")"
   ]
  },
  {
   "cell_type": "code",
   "execution_count": 49,
   "id": "043cea8c",
   "metadata": {},
   "outputs": [],
   "source": [
    "torch.save(model.state_dict(), 'best_model.pt')\n"
   ]
  }
 ],
 "metadata": {
  "kernelspec": {
   "display_name": "base",
   "language": "python",
   "name": "python3"
  },
  "language_info": {
   "codemirror_mode": {
    "name": "ipython",
    "version": 3
   },
   "file_extension": ".py",
   "mimetype": "text/x-python",
   "name": "python",
   "nbconvert_exporter": "python",
   "pygments_lexer": "ipython3",
   "version": "3.12.7"
  }
 },
 "nbformat": 4,
 "nbformat_minor": 5
}
