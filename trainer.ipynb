{
 "cells": [
  {
   "cell_type": "code",
   "execution_count": 3,
   "id": "1971e7af",
   "metadata": {},
   "outputs": [],
   "source": [
    "import torch\n",
    "import torch.nn as nn\n",
    "import torch.optim as optim\n",
    "from torch.utils.data import DataLoader, TensorDataset, Dataset\n",
    "\n",
    "from Architectures.Basic_Sequence_classification import Transformer_For_Sequence_Classification2"
   ]
  },
  {
   "cell_type": "code",
   "execution_count": 4,
   "id": "9427fc27",
   "metadata": {},
   "outputs": [],
   "source": [
    "from transformers import AutoTokenizer\n",
    "from datasets import load_dataset\n",
    "from sklearn.metrics import accuracy_score, f1_score"
   ]
  },
  {
   "cell_type": "markdown",
   "id": "3ca9a62c",
   "metadata": {},
   "source": [
    "## Loading Tweet Dataset"
   ]
  },
  {
   "cell_type": "code",
   "execution_count": 5,
   "id": "68ee0b81",
   "metadata": {},
   "outputs": [],
   "source": [
    "dataset = load_dataset(\"tweet_eval\", \"emotion\")\n",
    "tokenizer = AutoTokenizer.from_pretrained(\"bert-base-uncased\")\n",
    "\n",
    "NUM_LABELS = 6  # anger, joy, optimism, sadness, fear, love\n",
    "MAX_LEN = 128"
   ]
  },
  {
   "cell_type": "markdown",
   "id": "d8eb7244",
   "metadata": {},
   "source": [
    "## Preprocess"
   ]
  },
  {
   "cell_type": "code",
   "execution_count": 6,
   "id": "78890754",
   "metadata": {},
   "outputs": [],
   "source": [
    "def encode(examples):\n",
    "    return tokenizer(examples['text'], truncation=True, padding='max_length', max_length=MAX_LEN)\n",
    "\n",
    "encoded_dataset = dataset.map(encode)"
   ]
  },
  {
   "cell_type": "code",
   "execution_count": 7,
   "id": "a84e06dc",
   "metadata": {},
   "outputs": [],
   "source": [
    "class TweetDataset(Dataset):\n",
    "    def __init__(self, dataset):\n",
    "        self.dataset = dataset\n",
    "    \n",
    "    def __len__(self):\n",
    "        return len(self.dataset)\n",
    "    \n",
    "    def __getitem__(self, idx):\n",
    "        item = {\n",
    "            'input_ids': torch.tensor(self.dataset[idx]['input_ids']),\n",
    "            'attention_mask': torch.tensor(self.dataset[idx]['attention_mask']),\n",
    "        }\n",
    "        item['labels'] = torch.tensor(self.dataset[idx]['label'])\n",
    "        return item\n",
    "\n",
    "train_dataset = TweetDataset(encoded_dataset['train'])\n",
    "val_dataset = TweetDataset(encoded_dataset['validation'])\n",
    "train_loader = DataLoader(train_dataset, batch_size=32, shuffle=True)\n",
    "val_loader = DataLoader(val_dataset, batch_size=32)"
   ]
  },
  {
   "cell_type": "markdown",
   "id": "6fd2e608",
   "metadata": {},
   "source": [
    "## Model Definition and Training"
   ]
  },
  {
   "cell_type": "code",
   "execution_count": 14,
   "id": "6d00e90e",
   "metadata": {},
   "outputs": [],
   "source": [
    "class Config:\n",
    "    def __init__(self,\n",
    "                vocab_size,\n",
    "                embed_dim=128,\n",
    "                num_layers=10,\n",
    "                num_heads=8,\n",
    "                ff_dim=512,\n",
    "                pre_normalization=True,\n",
    "                max_position_embeddings=128,\n",
    "                dropout_prob=0.1,\n",
    "                num_labels=6):\n",
    "        self.vocab_size = vocab_size  # Tokenizer vocab size\n",
    "        self.embed_dim = embed_dim  # Embedding & input to attention\n",
    "        self.num_layers = num_layers  # Number of encoder layers\n",
    "        self.num_heads = num_heads  # Number of heads in Multi-Head Attention\n",
    "        self.ff_dim = ff_dim  # Feed Forward hidden dimension\n",
    "        self.pre_normalization = pre_normalization  # LayerNorm before or after attention/FFN\n",
    "        self.max_position_embeddings = max_position_embeddings  # Max sequence length\n",
    "        self.dropout_prob = dropout_prob  # Dropout probability\n",
    "        self.num_labels = num_labels  # Output classes (for classification)"
   ]
  },
  {
   "cell_type": "code",
   "execution_count": 15,
   "id": "3688ca83",
   "metadata": {},
   "outputs": [],
   "source": [
    "device = torch.device(\"cuda\" if torch.cuda.is_available() else \"cpu\")\n",
    "\n",
    "model = Transformer_For_Sequence_Classification2(config=Config(vocab_size=tokenizer.vocab_size)).to(device)\n",
    "optimizer = torch.optim.AdamW(model.parameters(), lr=2e-4)\n",
    "loss_fn = nn.CrossEntropyLoss()"
   ]
  },
  {
   "cell_type": "code",
   "execution_count": 17,
   "id": "eb44e0e9",
   "metadata": {},
   "outputs": [
    {
     "name": "stdout",
     "output_type": "stream",
     "text": [
      "Epoch 1, Loss: 0.3865\n",
      "Validation Accuracy: 0.6016, F1 Score: 0.4856\n",
      "Epoch 2, Loss: 0.3432\n",
      "Validation Accuracy: 0.6390, F1 Score: 0.5629\n",
      "Epoch 3, Loss: 0.2702\n",
      "Validation Accuracy: 0.5909, F1 Score: 0.5245\n",
      "Epoch 4, Loss: 0.2418\n",
      "Validation Accuracy: 0.6096, F1 Score: 0.5437\n",
      "Epoch 5, Loss: 0.2203\n",
      "Validation Accuracy: 0.5615, F1 Score: 0.5163\n",
      "Epoch 6, Loss: 0.1844\n",
      "Validation Accuracy: 0.5963, F1 Score: 0.5265\n",
      "Epoch 7, Loss: 0.1735\n",
      "Validation Accuracy: 0.5909, F1 Score: 0.5365\n",
      "Epoch 8, Loss: 0.1513\n",
      "Validation Accuracy: 0.5936, F1 Score: 0.5344\n",
      "Epoch 9, Loss: 0.1221\n",
      "Validation Accuracy: 0.5749, F1 Score: 0.4926\n",
      "Epoch 10, Loss: 0.1442\n",
      "Validation Accuracy: 0.5695, F1 Score: 0.5225\n"
     ]
    }
   ],
   "source": [
    "num_epochs = 10\n",
    "\n",
    "for epoch in range(num_epochs):\n",
    "    model.train()\n",
    "    total_loss = 0\n",
    "    for batch in train_loader:\n",
    "        # Get batch data\n",
    "        input_ids = batch['input_ids'].to(device)\n",
    "        attention_mask = batch['attention_mask'].to(device)\n",
    "        labels = batch['labels'].to(device)\n",
    "        \n",
    "        # Forward pass\n",
    "        optimizer.zero_grad()\n",
    "        logits = model(input_ids, attention_mask)\n",
    "        \n",
    "        # Calculate loss, backward pass, and update weights\n",
    "        loss = loss_fn(logits, labels)\n",
    "        loss.backward()\n",
    "        optimizer.step()\n",
    "        \n",
    "        total_loss += loss.item()\n",
    "    \n",
    "    print(f\"Epoch {epoch + 1}, Loss: {total_loss / len(train_loader):.4f}\")\n",
    "    \n",
    "    # Validation\n",
    "    model.eval()\n",
    "    preds, targets = [], []\n",
    "    with torch.no_grad():\n",
    "        for batch in val_loader:\n",
    "            input_ids = batch['input_ids'].to(device)\n",
    "            attention_mask = batch['attention_mask'].to(device)\n",
    "            labels = batch['labels'].to(device)\n",
    "            \n",
    "            logits = model(input_ids, attention_mask)\n",
    "            predictions = torch.argmax(logits, dim=1)\n",
    "            \n",
    "            preds.extend(predictions.cpu().numpy())\n",
    "            targets.extend(labels.cpu().numpy())\n",
    "    \n",
    "    acc = accuracy_score(targets, preds)\n",
    "    f1 = f1_score(targets, preds, average='macro')\n",
    "    print(f\"Validation Accuracy: {acc:.4f}, F1 Score: {f1:.4f}\")\n"
   ]
  },
  {
   "cell_type": "code",
   "execution_count": 13,
   "id": "043cea8c",
   "metadata": {},
   "outputs": [],
   "source": [
    "torch.save(model.state_dict(), 'best_model.pt')\n"
   ]
  }
 ],
 "metadata": {
  "kernelspec": {
   "display_name": "base",
   "language": "python",
   "name": "python3"
  },
  "language_info": {
   "codemirror_mode": {
    "name": "ipython",
    "version": 3
   },
   "file_extension": ".py",
   "mimetype": "text/x-python",
   "name": "python",
   "nbconvert_exporter": "python",
   "pygments_lexer": "ipython3",
   "version": "3.12.7"
  }
 },
 "nbformat": 4,
 "nbformat_minor": 5
}
